{
 "cells": [
  {
   "cell_type": "markdown",
   "metadata": {},
   "source": [
    "# EDA & Classification on Telecom Customer Churn"
   ]
  },
  {
   "cell_type": "markdown",
   "metadata": {},
   "source": [
    "This data can be download from https://www.kaggle.com/blastchar/telco-customer-churn.\n",
    "\n",
    "This date contains the following 21 features:\n",
    "    1. customerID: Customer ID\n",
    "    2. gender: Whether the customer is a male or a female\n",
    "    3. Senior Citizen: Whether the customer is a senior citizen or not (1, 0)\n",
    "    4. Partner: Whether the customer has a partner or not (Yes, No)\n",
    "    5. Dependents: Whether the customer has dependents or not (Yes, No)\n",
    "    6. tenure: Number of months the customer has stayed with the company\n",
    "    7. Phone Service: Whether the customer has a phone service or not (Yes, No)\n",
    "    8. Multiple Lines: Whether the customer has multiple lines or not (Yes, No, No phone service)\n",
    "    9. Internet Service: Customer’s internet service provider (DSL, Fiber optic, No)\n",
    "    10. Online Security: Whether the customer has online security or not (Yes, No, No internet service)\n",
    "    11. Online Backup: Whether the customer has online backup or not (Yes, No, No internet service)\n",
    "    12. Device Protection: Whether the customer has device protection or not (Yes, No, No internet service)\n",
    "    13. Tech Support: Whether the customer has tech support or not (Yes, No, No internet service)\n",
    "    14. Streaming TV: Whether the customer has streaming TV or not (Yes, No, No internet service)\n",
    "    15. Streaming Movies: Whether the customer has streaming movies or not (Yes, No, No internet service)\n",
    "    16. Contract: The contract term of the customer (Month-to-month, One year, Two year)\n",
    "    17. Paperless Billing: Whether the customer has paperless billing or not (Yes, No)\n",
    "    18. Payment Method: The customer’s payment method (Electronic check, Mailed check, Bank transfer (automatic), Credit card (automatic))\n",
    "    19. Monthly Charges: The amount charged to the customer monthly\n",
    "    20. Total Charges: The total amount charged to the customer\n",
    "    21. Churn: Whether the customer churned or not (Yes or No)"
   ]
  },
  {
   "cell_type": "markdown",
   "metadata": {},
   "source": [
    "In this project, I will focus on the following steps:  \n",
    "    1. EDA: explora the relationship between Churn and the following three sections:\n",
    "        1). Churn VS Demograohic info (gender, Senior Citizen, partners and dependents)\n",
    "        2). Churn VS Service (phone Service, multiple lines, internet Service, online security, online backup, device protection, tech support, and streaming TV and movies)\n",
    "        3). Churn VS Customer account information (how long they’ve been a customer, contract, payment method, paperless billing, monthly charges, and total charges) \n",
    "    2. Classification: SVM, RF, Decision Tree, NaiveBayes and logisit Regression"
   ]
  },
  {
   "cell_type": "code",
   "execution_count": 1,
   "metadata": {},
   "outputs": [],
   "source": [
    "#import basic packages\n",
    "import numpy as np\n",
    "import pandas as pd\n",
    "import matplotlib.pyplot as plt\n",
    "import seaborn as sns\n",
    "%matplotlib inline"
   ]
  },
  {
   "cell_type": "code",
   "execution_count": 2,
   "metadata": {},
   "outputs": [
    {
     "name": "stderr",
     "output_type": "stream",
     "text": [
      "C:\\Users\\candy\\Anaconda3\\lib\\site-packages\\sklearn\\ensemble\\weight_boosting.py:29: DeprecationWarning: numpy.core.umath_tests is an internal NumPy module and should not be imported. It will be removed in a future NumPy release.\n",
      "  from numpy.core.umath_tests import inner1d\n"
     ]
    }
   ],
   "source": [
    "from sklearn.model_selection import train_test_split\n",
    "from sklearn.ensemble import RandomForestClassifier\n",
    "from sklearn.linear_model import LogisticRegression\n",
    "from sklearn.tree import DecisionTreeClassifier\n",
    "from sklearn.naive_bayes import GaussianNB\n",
    "from sklearn import svm\n",
    "from sklearn.metrics import accuracy_score,confusion_matrix,classification_report\n",
    "from sklearn.preprocessing import LabelEncoder"
   ]
  },
  {
   "cell_type": "code",
   "execution_count": 3,
   "metadata": {},
   "outputs": [
    {
     "data": {
      "text/html": [
       "<div>\n",
       "<style scoped>\n",
       "    .dataframe tbody tr th:only-of-type {\n",
       "        vertical-align: middle;\n",
       "    }\n",
       "\n",
       "    .dataframe tbody tr th {\n",
       "        vertical-align: top;\n",
       "    }\n",
       "\n",
       "    .dataframe thead th {\n",
       "        text-align: right;\n",
       "    }\n",
       "</style>\n",
       "<table border=\"1\" class=\"dataframe\">\n",
       "  <thead>\n",
       "    <tr style=\"text-align: right;\">\n",
       "      <th></th>\n",
       "      <th>customerID</th>\n",
       "      <th>gender</th>\n",
       "      <th>SeniorCitizen</th>\n",
       "      <th>Partner</th>\n",
       "      <th>Dependents</th>\n",
       "      <th>tenure</th>\n",
       "      <th>PhoneService</th>\n",
       "      <th>MultipleLines</th>\n",
       "      <th>InternetService</th>\n",
       "      <th>OnlineSecurity</th>\n",
       "      <th>...</th>\n",
       "      <th>DeviceProtection</th>\n",
       "      <th>TechSupport</th>\n",
       "      <th>StreamingTV</th>\n",
       "      <th>StreamingMovies</th>\n",
       "      <th>Contract</th>\n",
       "      <th>PaperlessBilling</th>\n",
       "      <th>PaymentMethod</th>\n",
       "      <th>MonthlyCharges</th>\n",
       "      <th>TotalCharges</th>\n",
       "      <th>Churn</th>\n",
       "    </tr>\n",
       "  </thead>\n",
       "  <tbody>\n",
       "    <tr>\n",
       "      <th>0</th>\n",
       "      <td>7590-VHVEG</td>\n",
       "      <td>Female</td>\n",
       "      <td>0</td>\n",
       "      <td>Yes</td>\n",
       "      <td>No</td>\n",
       "      <td>1</td>\n",
       "      <td>No</td>\n",
       "      <td>No phone service</td>\n",
       "      <td>DSL</td>\n",
       "      <td>No</td>\n",
       "      <td>...</td>\n",
       "      <td>No</td>\n",
       "      <td>No</td>\n",
       "      <td>No</td>\n",
       "      <td>No</td>\n",
       "      <td>Month-to-month</td>\n",
       "      <td>Yes</td>\n",
       "      <td>Electronic check</td>\n",
       "      <td>29.85</td>\n",
       "      <td>29.85</td>\n",
       "      <td>No</td>\n",
       "    </tr>\n",
       "    <tr>\n",
       "      <th>1</th>\n",
       "      <td>5575-GNVDE</td>\n",
       "      <td>Male</td>\n",
       "      <td>0</td>\n",
       "      <td>No</td>\n",
       "      <td>No</td>\n",
       "      <td>34</td>\n",
       "      <td>Yes</td>\n",
       "      <td>No</td>\n",
       "      <td>DSL</td>\n",
       "      <td>Yes</td>\n",
       "      <td>...</td>\n",
       "      <td>Yes</td>\n",
       "      <td>No</td>\n",
       "      <td>No</td>\n",
       "      <td>No</td>\n",
       "      <td>One year</td>\n",
       "      <td>No</td>\n",
       "      <td>Mailed check</td>\n",
       "      <td>56.95</td>\n",
       "      <td>1889.5</td>\n",
       "      <td>No</td>\n",
       "    </tr>\n",
       "    <tr>\n",
       "      <th>2</th>\n",
       "      <td>3668-QPYBK</td>\n",
       "      <td>Male</td>\n",
       "      <td>0</td>\n",
       "      <td>No</td>\n",
       "      <td>No</td>\n",
       "      <td>2</td>\n",
       "      <td>Yes</td>\n",
       "      <td>No</td>\n",
       "      <td>DSL</td>\n",
       "      <td>Yes</td>\n",
       "      <td>...</td>\n",
       "      <td>No</td>\n",
       "      <td>No</td>\n",
       "      <td>No</td>\n",
       "      <td>No</td>\n",
       "      <td>Month-to-month</td>\n",
       "      <td>Yes</td>\n",
       "      <td>Mailed check</td>\n",
       "      <td>53.85</td>\n",
       "      <td>108.15</td>\n",
       "      <td>Yes</td>\n",
       "    </tr>\n",
       "    <tr>\n",
       "      <th>3</th>\n",
       "      <td>7795-CFOCW</td>\n",
       "      <td>Male</td>\n",
       "      <td>0</td>\n",
       "      <td>No</td>\n",
       "      <td>No</td>\n",
       "      <td>45</td>\n",
       "      <td>No</td>\n",
       "      <td>No phone service</td>\n",
       "      <td>DSL</td>\n",
       "      <td>Yes</td>\n",
       "      <td>...</td>\n",
       "      <td>Yes</td>\n",
       "      <td>Yes</td>\n",
       "      <td>No</td>\n",
       "      <td>No</td>\n",
       "      <td>One year</td>\n",
       "      <td>No</td>\n",
       "      <td>Bank transfer (automatic)</td>\n",
       "      <td>42.30</td>\n",
       "      <td>1840.75</td>\n",
       "      <td>No</td>\n",
       "    </tr>\n",
       "    <tr>\n",
       "      <th>4</th>\n",
       "      <td>9237-HQITU</td>\n",
       "      <td>Female</td>\n",
       "      <td>0</td>\n",
       "      <td>No</td>\n",
       "      <td>No</td>\n",
       "      <td>2</td>\n",
       "      <td>Yes</td>\n",
       "      <td>No</td>\n",
       "      <td>Fiber optic</td>\n",
       "      <td>No</td>\n",
       "      <td>...</td>\n",
       "      <td>No</td>\n",
       "      <td>No</td>\n",
       "      <td>No</td>\n",
       "      <td>No</td>\n",
       "      <td>Month-to-month</td>\n",
       "      <td>Yes</td>\n",
       "      <td>Electronic check</td>\n",
       "      <td>70.70</td>\n",
       "      <td>151.65</td>\n",
       "      <td>Yes</td>\n",
       "    </tr>\n",
       "  </tbody>\n",
       "</table>\n",
       "<p>5 rows × 21 columns</p>\n",
       "</div>"
      ],
      "text/plain": [
       "   customerID  gender  SeniorCitizen Partner Dependents  tenure PhoneService  \\\n",
       "0  7590-VHVEG  Female              0     Yes         No       1           No   \n",
       "1  5575-GNVDE    Male              0      No         No      34          Yes   \n",
       "2  3668-QPYBK    Male              0      No         No       2          Yes   \n",
       "3  7795-CFOCW    Male              0      No         No      45           No   \n",
       "4  9237-HQITU  Female              0      No         No       2          Yes   \n",
       "\n",
       "      MultipleLines InternetService OnlineSecurity  ...  DeviceProtection  \\\n",
       "0  No phone service             DSL             No  ...                No   \n",
       "1                No             DSL            Yes  ...               Yes   \n",
       "2                No             DSL            Yes  ...                No   \n",
       "3  No phone service             DSL            Yes  ...               Yes   \n",
       "4                No     Fiber optic             No  ...                No   \n",
       "\n",
       "  TechSupport StreamingTV StreamingMovies        Contract PaperlessBilling  \\\n",
       "0          No          No              No  Month-to-month              Yes   \n",
       "1          No          No              No        One year               No   \n",
       "2          No          No              No  Month-to-month              Yes   \n",
       "3         Yes          No              No        One year               No   \n",
       "4          No          No              No  Month-to-month              Yes   \n",
       "\n",
       "               PaymentMethod MonthlyCharges  TotalCharges Churn  \n",
       "0           Electronic check          29.85         29.85    No  \n",
       "1               Mailed check          56.95        1889.5    No  \n",
       "2               Mailed check          53.85        108.15   Yes  \n",
       "3  Bank transfer (automatic)          42.30       1840.75    No  \n",
       "4           Electronic check          70.70        151.65   Yes  \n",
       "\n",
       "[5 rows x 21 columns]"
      ]
     },
     "execution_count": 3,
     "metadata": {},
     "output_type": "execute_result"
    }
   ],
   "source": [
    "#upload data\n",
    "data=pd.read_csv('WA_Fn-UseC_-Telco-Customer-Churn.csv')\n",
    "df=pd.DataFrame(data)\n",
    "df.head()"
   ]
  },
  {
   "cell_type": "code",
   "execution_count": 4,
   "metadata": {},
   "outputs": [
    {
     "name": "stdout",
     "output_type": "stream",
     "text": [
      "<class 'pandas.core.frame.DataFrame'>\n",
      "RangeIndex: 7043 entries, 0 to 7042\n",
      "Data columns (total 21 columns):\n",
      "customerID          7043 non-null object\n",
      "gender              7043 non-null object\n",
      "SeniorCitizen       7043 non-null int64\n",
      "Partner             7043 non-null object\n",
      "Dependents          7043 non-null object\n",
      "tenure              7043 non-null int64\n",
      "PhoneService        7043 non-null object\n",
      "MultipleLines       7043 non-null object\n",
      "InternetService     7043 non-null object\n",
      "OnlineSecurity      7043 non-null object\n",
      "OnlineBackup        7043 non-null object\n",
      "DeviceProtection    7043 non-null object\n",
      "TechSupport         7043 non-null object\n",
      "StreamingTV         7043 non-null object\n",
      "StreamingMovies     7043 non-null object\n",
      "Contract            7043 non-null object\n",
      "PaperlessBilling    7043 non-null object\n",
      "PaymentMethod       7043 non-null object\n",
      "MonthlyCharges      7043 non-null float64\n",
      "TotalCharges        7043 non-null object\n",
      "Churn               7043 non-null object\n",
      "dtypes: float64(1), int64(2), object(18)\n",
      "memory usage: 1.1+ MB\n"
     ]
    }
   ],
   "source": [
    "df.info()"
   ]
  },
  {
   "cell_type": "code",
   "execution_count": 5,
   "metadata": {},
   "outputs": [],
   "source": [
    "#Change TotalCharges into numerica\n",
    "df['TotalCharges']=pd.to_numeric(df['TotalCharges'],errors='coerce')"
   ]
  },
  {
   "cell_type": "code",
   "execution_count": 6,
   "metadata": {},
   "outputs": [
    {
     "data": {
      "text/plain": [
       "customerID           0\n",
       "gender               0\n",
       "SeniorCitizen        0\n",
       "Partner              0\n",
       "Dependents           0\n",
       "tenure               0\n",
       "PhoneService         0\n",
       "MultipleLines        0\n",
       "InternetService      0\n",
       "OnlineSecurity       0\n",
       "OnlineBackup         0\n",
       "DeviceProtection     0\n",
       "TechSupport          0\n",
       "StreamingTV          0\n",
       "StreamingMovies      0\n",
       "Contract             0\n",
       "PaperlessBilling     0\n",
       "PaymentMethod        0\n",
       "MonthlyCharges       0\n",
       "TotalCharges        11\n",
       "Churn                0\n",
       "dtype: int64"
      ]
     },
     "execution_count": 6,
     "metadata": {},
     "output_type": "execute_result"
    }
   ],
   "source": [
    "df.isnull().sum()"
   ]
  },
  {
   "cell_type": "markdown",
   "metadata": {},
   "source": [
    "The missing values only exists in TotalCharges, and it's not too much. Maybe we can use median to impute later in order to fit the model."
   ]
  },
  {
   "cell_type": "code",
   "execution_count": 7,
   "metadata": {},
   "outputs": [
    {
     "data": {
      "text/html": [
       "<div>\n",
       "<style scoped>\n",
       "    .dataframe tbody tr th:only-of-type {\n",
       "        vertical-align: middle;\n",
       "    }\n",
       "\n",
       "    .dataframe tbody tr th {\n",
       "        vertical-align: top;\n",
       "    }\n",
       "\n",
       "    .dataframe thead th {\n",
       "        text-align: right;\n",
       "    }\n",
       "</style>\n",
       "<table border=\"1\" class=\"dataframe\">\n",
       "  <thead>\n",
       "    <tr style=\"text-align: right;\">\n",
       "      <th></th>\n",
       "      <th>SeniorCitizen</th>\n",
       "      <th>tenure</th>\n",
       "      <th>MonthlyCharges</th>\n",
       "      <th>TotalCharges</th>\n",
       "    </tr>\n",
       "  </thead>\n",
       "  <tbody>\n",
       "    <tr>\n",
       "      <th>count</th>\n",
       "      <td>7043.000000</td>\n",
       "      <td>7043.000000</td>\n",
       "      <td>7043.000000</td>\n",
       "      <td>7032.000000</td>\n",
       "    </tr>\n",
       "    <tr>\n",
       "      <th>mean</th>\n",
       "      <td>0.162147</td>\n",
       "      <td>32.371149</td>\n",
       "      <td>64.761692</td>\n",
       "      <td>2283.300441</td>\n",
       "    </tr>\n",
       "    <tr>\n",
       "      <th>std</th>\n",
       "      <td>0.368612</td>\n",
       "      <td>24.559481</td>\n",
       "      <td>30.090047</td>\n",
       "      <td>2266.771362</td>\n",
       "    </tr>\n",
       "    <tr>\n",
       "      <th>min</th>\n",
       "      <td>0.000000</td>\n",
       "      <td>0.000000</td>\n",
       "      <td>18.250000</td>\n",
       "      <td>18.800000</td>\n",
       "    </tr>\n",
       "    <tr>\n",
       "      <th>25%</th>\n",
       "      <td>0.000000</td>\n",
       "      <td>9.000000</td>\n",
       "      <td>35.500000</td>\n",
       "      <td>401.450000</td>\n",
       "    </tr>\n",
       "    <tr>\n",
       "      <th>50%</th>\n",
       "      <td>0.000000</td>\n",
       "      <td>29.000000</td>\n",
       "      <td>70.350000</td>\n",
       "      <td>1397.475000</td>\n",
       "    </tr>\n",
       "    <tr>\n",
       "      <th>75%</th>\n",
       "      <td>0.000000</td>\n",
       "      <td>55.000000</td>\n",
       "      <td>89.850000</td>\n",
       "      <td>3794.737500</td>\n",
       "    </tr>\n",
       "    <tr>\n",
       "      <th>max</th>\n",
       "      <td>1.000000</td>\n",
       "      <td>72.000000</td>\n",
       "      <td>118.750000</td>\n",
       "      <td>8684.800000</td>\n",
       "    </tr>\n",
       "  </tbody>\n",
       "</table>\n",
       "</div>"
      ],
      "text/plain": [
       "       SeniorCitizen       tenure  MonthlyCharges  TotalCharges\n",
       "count    7043.000000  7043.000000     7043.000000   7032.000000\n",
       "mean        0.162147    32.371149       64.761692   2283.300441\n",
       "std         0.368612    24.559481       30.090047   2266.771362\n",
       "min         0.000000     0.000000       18.250000     18.800000\n",
       "25%         0.000000     9.000000       35.500000    401.450000\n",
       "50%         0.000000    29.000000       70.350000   1397.475000\n",
       "75%         0.000000    55.000000       89.850000   3794.737500\n",
       "max         1.000000    72.000000      118.750000   8684.800000"
      ]
     },
     "execution_count": 7,
     "metadata": {},
     "output_type": "execute_result"
    }
   ],
   "source": [
    "df.describe()"
   ]
  },
  {
   "cell_type": "code",
   "execution_count": 8,
   "metadata": {},
   "outputs": [
    {
     "data": {
      "text/html": [
       "<div>\n",
       "<style scoped>\n",
       "    .dataframe tbody tr th:only-of-type {\n",
       "        vertical-align: middle;\n",
       "    }\n",
       "\n",
       "    .dataframe tbody tr th {\n",
       "        vertical-align: top;\n",
       "    }\n",
       "\n",
       "    .dataframe thead th {\n",
       "        text-align: right;\n",
       "    }\n",
       "</style>\n",
       "<table border=\"1\" class=\"dataframe\">\n",
       "  <thead>\n",
       "    <tr style=\"text-align: right;\">\n",
       "      <th></th>\n",
       "      <th>customerID</th>\n",
       "      <th>gender</th>\n",
       "      <th>SeniorCitizen</th>\n",
       "      <th>Partner</th>\n",
       "      <th>Dependents</th>\n",
       "      <th>tenure</th>\n",
       "      <th>PhoneService</th>\n",
       "      <th>MultipleLines</th>\n",
       "      <th>InternetService</th>\n",
       "      <th>OnlineSecurity</th>\n",
       "      <th>...</th>\n",
       "      <th>DeviceProtection</th>\n",
       "      <th>TechSupport</th>\n",
       "      <th>StreamingTV</th>\n",
       "      <th>StreamingMovies</th>\n",
       "      <th>Contract</th>\n",
       "      <th>PaperlessBilling</th>\n",
       "      <th>PaymentMethod</th>\n",
       "      <th>MonthlyCharges</th>\n",
       "      <th>TotalCharges</th>\n",
       "      <th>Churn</th>\n",
       "    </tr>\n",
       "  </thead>\n",
       "  <tbody>\n",
       "  </tbody>\n",
       "</table>\n",
       "<p>0 rows × 21 columns</p>\n",
       "</div>"
      ],
      "text/plain": [
       "Empty DataFrame\n",
       "Columns: [customerID, gender, SeniorCitizen, Partner, Dependents, tenure, PhoneService, MultipleLines, InternetService, OnlineSecurity, OnlineBackup, DeviceProtection, TechSupport, StreamingTV, StreamingMovies, Contract, PaperlessBilling, PaymentMethod, MonthlyCharges, TotalCharges, Churn]\n",
       "Index: []\n",
       "\n",
       "[0 rows x 21 columns]"
      ]
     },
     "execution_count": 8,
     "metadata": {},
     "output_type": "execute_result"
    }
   ],
   "source": [
    "#Check if there are any duplicates\n",
    "df[df.duplicated()]"
   ]
  },
  {
   "cell_type": "code",
   "execution_count": 9,
   "metadata": {},
   "outputs": [
    {
     "name": "stdout",
     "output_type": "stream",
     "text": [
      "No     5174\n",
      "Yes    1869\n",
      "Name: Churn, dtype: int64\n"
     ]
    },
    {
     "data": {
      "image/png": "[encoded data removed]",
      "text/plain": [
       "<Figure size 432x288 with 1 Axes>"
      ]
     },
     "metadata": {
      "needs_background": "light"
     },
     "output_type": "display_data"
    },
    {
     "data": {
      "image/png": "[encoded data removed]",
      "text/plain": [
       "<Figure size 432x288 with 1 Axes>"
      ]
     },
     "metadata": {},
     "output_type": "display_data"
    }
   ],
   "source": [
    "#EDA\n",
    "#Check the target first\n",
    "print(df['Churn'].value_counts())\n",
    "sns.countplot(df['Churn'])\n",
    "\n",
    "# Pie chart\n",
    "N_C=df[df['Churn']=='No'].shape[0]\n",
    "Y_C=df[df['Churn']=='Yes'].shape[0]\n",
    "size=[N_C,Y_C]\n",
    " \n",
    "fig1, ax1 = plt.subplots()\n",
    "ax1.pie(size, labels=['No_Churn','Yes_Churn'], autopct='%1.1f%%', startangle=90)\n",
    "centre_circle = plt.Circle((0,0),0.50,fc='white')\n",
    "fig = plt.gcf()\n",
    "fig.gca().add_artist(centre_circle)\n",
    "ax1.axis('equal')  \n",
    "plt.tight_layout()"
   ]
  },
  {
   "cell_type": "markdown",
   "metadata": {},
   "source": [
    "It is obvious that more than 2/3 customers will keep the contact. Next, I will explore the relationship between Churn and other features."
   ]
  },
  {
   "cell_type": "markdown",
   "metadata": {},
   "source": [
    "#1. Churn VS Demograohic info (gender, Senior Citizen, partners and dependents)"
   ]
  },
  {
   "cell_type": "code",
   "execution_count": 10,
   "metadata": {},
   "outputs": [
    {
     "data": {
      "text/plain": [
       "<matplotlib.legend.Legend at 0x21e99361a58>"
      ]
     },
     "execution_count": 10,
     "metadata": {},
     "output_type": "execute_result"
    },
    {
     "data": {
      "image/png": "[encoded data removed]",
      "text/plain": [
       "<Figure size 720x576 with 4 Axes>"
      ]
     },
     "metadata": {
      "needs_background": "light"
     },
     "output_type": "display_data"
    }
   ],
   "source": [
    "plt.figure(figsize=(10,8))\n",
    "# gender vs Churn\n",
    "plt.subplot(221)\n",
    "a=sns.countplot(x='gender',data=df,hue='Churn')\n",
    "a.set_xticklabels(('Female','Male'))\n",
    "plt.legend(title='Churn',labels=['No','Yes'])\n",
    "\n",
    "# Senior Citizen vs Churn\n",
    "plt.subplot(222)\n",
    "b=sns.countplot(x='SeniorCitizen',data=df,hue='Churn')\n",
    "b.set_xticklabels(('No', 'Yes'))\n",
    "plt.legend(title='Churn',labels=['No','Yes'])\n",
    "\n",
    "# Partner vs Churn\n",
    "plt.subplot(223)\n",
    "c=sns.countplot(x='Partner',data=df,hue='Churn')\n",
    "c.set_xticklabels(('No', 'Yes'))\n",
    "plt.legend(title='Churn',labels=['No','Yes'])\n",
    "\n",
    "# Dependents vs Churn\n",
    "plt.subplot(224)\n",
    "d=sns.countplot(x='Dependents',data=df,hue='Churn')\n",
    "d.set_xticklabels(('No', 'Yes'))\n",
    "plt.legend(title='Churn',labels=['No','Yes'])"
   ]
  },
  {
   "cell_type": "markdown",
   "metadata": {},
   "source": [
    "1. Gender: it seems that a little more Male will not Churn comparing with Female. But, both gender have same chance to choose Churn. So, gender doesn't have much effect on Churn.\n",
    "2. SeniorCitizen: much more younger customers will not churn comparing with those Senior Citizen. In addition, more younger customers wii choose churn comparing with Serior Citizens. It seems that the group of younger customers is not stable. Telecom will need to foucus more on younger customers than Senior Citizens. Besides, Younger customers are the marioty group.\n",
    "3. Partner: no partner customers have more chance not to churn comparing with customers who have partners. Also, no partner customers has less chance to churn than customers who have paetners. So, no partner customers are better than customers who has partners. Telecom maybe need to put more focus on customers who has partners.\n",
    "4. Dependents: much more Independents customers will not Churn. However, Much Indenpendents customers choose to churn. So, Independents customers are not stable. Telecome maybe need to put more focus on Independents customers. Besides, there are more independents customers than dependents customers."
   ]
  },
  {
   "cell_type": "markdown",
   "metadata": {},
   "source": [
    "#Check the relation between Churn and gender, age."
   ]
  },
  {
   "cell_type": "code",
   "execution_count": 11,
   "metadata": {},
   "outputs": [
    {
     "name": "stderr",
     "output_type": "stream",
     "text": [
      "C:\\Users\\candy\\Anaconda3\\lib\\site-packages\\scipy\\stats\\stats.py:1713: FutureWarning: Using a non-tuple sequence for multidimensional indexing is deprecated; use `arr[tuple(seq)]` instead of `arr[seq]`. In the future this will be interpreted as an array index, `arr[np.array(seq)]`, which will result either in an error or a different result.\n",
      "  return np.add.reduce(sorted[indexer] * weights, axis=axis) / sumval\n"
     ]
    },
    {
     "data": {
      "text/plain": [
       "<seaborn.axisgrid.FacetGrid at 0x21e9939b240>"
      ]
     },
     "execution_count": 11,
     "metadata": {},
     "output_type": "execute_result"
    },
    {
     "data": {
      "image/png": "[encoded data removed]",
      "text/plain": [
       "<Figure size 403.2x288 with 2 Axes>"
      ]
     },
     "metadata": {
      "needs_background": "light"
     },
     "output_type": "display_data"
    }
   ],
   "source": [
    "sns.catplot(x=\"gender\", y=\"SeniorCitizen\",col='Churn',data=df,kind='bar',height=4, aspect=.7)"
   ]
  },
  {
   "cell_type": "markdown",
   "metadata": {},
   "source": [
    "It is obvious that almost same gender younger cusotmers didn't churn. However, more female Senior Citizen will be churn than man Senior Citizen."
   ]
  },
  {
   "cell_type": "markdown",
   "metadata": {},
   "source": [
    "#Check the relation between Churn and partner, dependents."
   ]
  },
  {
   "cell_type": "code",
   "execution_count": 12,
   "metadata": {},
   "outputs": [],
   "source": [
    "#Creat dummy variable for partner and dependents\n",
    "df['Partner']=pd.get_dummies(df['Partner'],drop_first=True)\n",
    "df['Dependents']=pd.get_dummies(df['Dependents'],drop_first=True)"
   ]
  },
  {
   "cell_type": "code",
   "execution_count": 13,
   "metadata": {},
   "outputs": [
    {
     "name": "stderr",
     "output_type": "stream",
     "text": [
      "C:\\Users\\candy\\Anaconda3\\lib\\site-packages\\scipy\\stats\\stats.py:1713: FutureWarning: Using a non-tuple sequence for multidimensional indexing is deprecated; use `arr[tuple(seq)]` instead of `arr[seq]`. In the future this will be interpreted as an array index, `arr[np.array(seq)]`, which will result either in an error or a different result.\n",
      "  return np.add.reduce(sorted[indexer] * weights, axis=axis) / sumval\n"
     ]
    },
    {
     "data": {
      "text/plain": [
       "<seaborn.axisgrid.FacetGrid at 0x21e97d5bd30>"
      ]
     },
     "execution_count": 13,
     "metadata": {},
     "output_type": "execute_result"
    },
    {
     "data": {
      "image/png": "[encoded data removed]",
      "text/plain": [
       "<Figure size 403.2x288 with 2 Axes>"
      ]
     },
     "metadata": {
      "needs_background": "light"
     },
     "output_type": "display_data"
    }
   ],
   "source": [
    "sns.catplot(x=\"Partner\", y=\"Dependents\",col='Churn',data=df,kind='bar',height=4, aspect=.7)"
   ]
  },
  {
   "cell_type": "markdown",
   "metadata": {},
   "source": [
    "If the customer has the partner and Dependents, he/she will prefer no Churn. "
   ]
  },
  {
   "cell_type": "markdown",
   "metadata": {},
   "source": [
    "#2.Churn VS Service (phone Service, multiple lines, internet Service, online security, online                               backup, device protection, tech support, and streaming TV and movies)"
   ]
  },
  {
   "cell_type": "code",
   "execution_count": 14,
   "metadata": {},
   "outputs": [
    {
     "data": {
      "text/plain": [
       "<matplotlib.legend.Legend at 0x21e99908128>"
      ]
     },
     "execution_count": 14,
     "metadata": {},
     "output_type": "execute_result"
    },
    {
     "data": {
      "image/png": "[encoded data removed]",
      "text/plain": [
       "<Figure size 1080x1080 with 9 Axes>"
      ]
     },
     "metadata": {
      "needs_background": "light"
     },
     "output_type": "display_data"
    }
   ],
   "source": [
    "plt.figure(figsize=(15,15))\n",
    "# Phone Service vs Churn\n",
    "plt.subplot(331)\n",
    "a=sns.countplot(x='PhoneService',data=df,hue='Churn')\n",
    "a.set_xticklabels(('No','Yes'))\n",
    "plt.legend(title='Churn',labels=['No','Yes'])\n",
    "\n",
    "# MultipleLines vs Churn\n",
    "plt.subplot(332)\n",
    "b=sns.countplot(x='MultipleLines',data=df,hue='Churn')\n",
    "b.set_xticklabels(('No phone service','No', 'Yes'))\n",
    "plt.legend(title='Churn',labels=['No','Yes'])\n",
    "\n",
    "# InternetService vs Churn\n",
    "plt.subplot(333)\n",
    "c=sns.countplot(x='InternetService',data=df,hue='Churn')\n",
    "c.set_xticklabels(('DSL','Fiber optic','No'))\n",
    "plt.legend(title='Churn',labels=['No','Yes'])\n",
    "\n",
    "# OnlineSecurity vs Churn\n",
    "plt.subplot(334)\n",
    "d=sns.countplot(x='OnlineSecurity',data=df,hue='Churn')\n",
    "d.set_xticklabels(('No', 'Yes','No internet service'))\n",
    "plt.legend(title='Churn',labels=['No','Yes'])\n",
    "\n",
    "# OnlineBackup vs Churn\n",
    "plt.subplot(335)\n",
    "e=sns.countplot(x='OnlineBackup',data=df,hue='Churn')\n",
    "e.set_xticklabels(('Yes','No','No internet service'))\n",
    "plt.legend(title='Churn',labels=['No','Yes'])\n",
    "\n",
    "# DeviceProtection vs Churn\n",
    "plt.subplot(336)\n",
    "f=sns.countplot(x='DeviceProtection',data=df,hue='Churn')\n",
    "f.set_xticklabels(('No', 'Yes','No internet service'))\n",
    "plt.legend(title='Churn',labels=['No','Yes'])\n",
    "\n",
    "# TechSupport vs Churn\n",
    "plt.subplot(337)\n",
    "g=sns.countplot(x='TechSupport',data=df,hue='Churn')\n",
    "g.set_xticklabels(('No', 'Yes', 'No internet service'))\n",
    "plt.legend(title='Churn',labels=['No','Yes'])\n",
    "\n",
    "# StreamingTV vs Churn\n",
    "plt.subplot(338)\n",
    "h=sns.countplot(x='StreamingTV',data=df,hue='Churn')\n",
    "h.set_xticklabels(('No', 'Yes','No internet service'))\n",
    "plt.legend(title='Churn',labels=['No','Yes'])\n",
    "\n",
    "# StreamingMovies and Churn\n",
    "plt.subplot(339)\n",
    "i=sns.countplot(x='StreamingMovies',data=df,hue='Churn')\n",
    "i.set_xticklabels(('No', 'Yes','No internet service'))\n",
    "plt.legend(title='Churn',labels=['No','Yes'])"
   ]
  },
  {
   "cell_type": "markdown",
   "metadata": {},
   "source": [
    "1. PhoneService: Majority customers chose to use Phone Service. Also, more customers chose not to churn without considering choose phone service or not.\n",
    "2. MultipleLines: overall, more customers didn't have multiplelines. Comparing with customers who have multiplelines, customers who didn't have multiplelines have less people to churn. However, both of them have same amount of customers will churn.\n",
    "3. InternetService: Even Fiber optic customers didn't have most customers to choose no churn, this group of customers has the most people to churn. So, telecom need to put more attention on those who choose Fiber optic Interservice. On the opposite, DSL looks better. only a little customers churn.\n",
    "4. OnlineSecurity: majority customers did't have online security. Also, in this group, almost half customers choose churn. So, telecom should put more attention on this group.\n",
    "5. OnlineBackup: majority customers didn't have online backup. Besides, more customers chose churn comparing other two groups.\n",
    "6. DeviceProtection: it looks same amount of customers have device Protection or not. But, if the customers didn't have device protection, he/she will have more chance to churn.\n",
    "7. TechSupport: majority customers didn't have techSupport. Comparing with other two groups, no techsupport group has more chance to churn or not churn. So, telecom should put more focus on this group.\n",
    "8. StreamingTv: customers who didn't have streaming Tv have almost the same amount as the group which has streaming TV. Beasides, both groups look have same chance to churn or not.\n",
    "9. StreamingMovies: looks similar like Streaming TV."
   ]
  },
  {
   "cell_type": "markdown",
   "metadata": {},
   "source": [
    "#Relation between Churn and PhoneService, Multiplelines"
   ]
  },
  {
   "cell_type": "code",
   "execution_count": 15,
   "metadata": {},
   "outputs": [
    {
     "name": "stdout",
     "output_type": "stream",
     "text": [
      "                   No_Churn  Yes_Churn\n",
      "No_PhoneServies         512        170\n",
      "No_MultipleLines       2541        849\n",
      "Yes_MultipleLines      2121        850\n"
     ]
    },
    {
     "data": {
      "text/plain": [
       "<matplotlib.axes._subplots.AxesSubplot at 0x21e99edb710>"
      ]
     },
     "execution_count": 15,
     "metadata": {},
     "output_type": "execute_result"
    },
    {
     "data": {
      "image/png": "[encoded data removed]",
      "text/plain": [
       "<Figure size 432x288 with 1 Axes>"
      ]
     },
     "metadata": {
      "needs_background": "light"
     },
     "output_type": "display_data"
    }
   ],
   "source": [
    "No_PS=df[df['PhoneService']=='No'].Churn.value_counts()\n",
    "No_Multi=df[df['MultipleLines']=='No'].Churn.value_counts()\n",
    "Yes_Multi=df[df['MultipleLines']=='Yes'].Churn.value_counts()\n",
    "counts=np.array([[No_PS[0],No_PS[1]],[No_Multi[0],No_Multi[1]],[Yes_Multi[0],Yes_Multi[1]]])\n",
    "Phone_Multi=pd.DataFrame(data=counts, index=['No_PhoneServies','No_MultipleLines','Yes_MultipleLines'], columns=['No_Churn','Yes_Churn'])\n",
    "print(Phone_Multi)\n",
    "Phone_Multi.plot.bar()"
   ]
  },
  {
   "cell_type": "markdown",
   "metadata": {},
   "source": [
    "It is obvious that most of customers chose the phone service. In the No_Churn group, almost half customers chose single line. However, almost same amount customers chose Churn or not if they have Phone Service. "
   ]
  },
  {
   "cell_type": "markdown",
   "metadata": {},
   "source": [
    "#Relation between Churn and internet Service, online security, online backup, device protection, tech support, and streaming TV and movies"
   ]
  },
  {
   "cell_type": "code",
   "execution_count": 16,
   "metadata": {},
   "outputs": [],
   "source": [
    "No_inter=df[df['InternetService']=='No'].Churn.value_counts()\n",
    "DSL=df[df['InternetService']=='DSL'].Churn.value_counts()\n",
    "Fiber=df[df['InternetService']=='Fiber optic'].Churn.value_counts()\n",
    "\n",
    "No_OS=df[df['OnlineSecurity']=='No'].Churn.value_counts()\n",
    "Yes_OS=df[df['OnlineSecurity']=='Yes'].Churn.value_counts()\n",
    "\n",
    "No_OB=df[df['OnlineBackup']=='No'].Churn.value_counts()\n",
    "Yes_OB=df[df['OnlineBackup']=='Yes'].Churn.value_counts()\n",
    "\n",
    "No_DP=df[df['DeviceProtection']=='No'].Churn.value_counts()\n",
    "Yes_DP=df[df['DeviceProtection']=='Yes'].Churn.value_counts()\n",
    "\n",
    "No_TS=df[df['TechSupport']=='No'].Churn.value_counts()\n",
    "Yes_TS=df[df['TechSupport']=='Yes'].Churn.value_counts()\n",
    "\n",
    "No_ST=df[df['StreamingTV']=='No'].Churn.value_counts()\n",
    "Yes_ST=df[df['StreamingTV']=='Yes'].Churn.value_counts()\n",
    "\n",
    "No_SM=df[df['StreamingMovies']=='No'].Churn.value_counts()\n",
    "Yes_SM=df[df['StreamingMovies']=='Yes'].Churn.value_counts()"
   ]
  },
  {
   "cell_type": "code",
   "execution_count": 17,
   "metadata": {},
   "outputs": [
    {
     "name": "stdout",
     "output_type": "stream",
     "text": [
      "                      No_Churn  Yes_Churn\n",
      "No_InternetServies        1413        113\n",
      "DSL_internet              1962        459\n",
      "Fiber optic_internet      1799       1297\n",
      "No_OnlineSecurity         2037       1461\n",
      "Yes_OnlineSecurity        1724        295\n",
      "No_OnlineBackup           1855       1233\n",
      "Yes_OnlineBackup          1906        523\n",
      "No_DeviceProtection       1884       1211\n",
      "Yes_DeviceProtection      1877        545\n",
      "No_TechSupport            2027       1446\n",
      "Yes_TechSupport           1734        310\n",
      "No_StreamingTV            1868        942\n",
      "Yes_StreamingTV           1893        814\n",
      "No_StreamingMovies        1847        938\n",
      "Yes_StreamingMovies       1914        818\n"
     ]
    },
    {
     "data": {
      "text/plain": [
       "<matplotlib.axes._subplots.AxesSubplot at 0x21e999510f0>"
      ]
     },
     "execution_count": 17,
     "metadata": {},
     "output_type": "execute_result"
    },
    {
     "data": {
      "image/png": "[encoded data removed]",
      "text/plain": [
       "<Figure size 432x288 with 1 Axes>"
      ]
     },
     "metadata": {
      "needs_background": "light"
     },
     "output_type": "display_data"
    }
   ],
   "source": [
    "num=np.array([[No_inter[0],No_inter[1]],[DSL[0],DSL[1]],[Fiber[0],Fiber[1]],[No_OS[0],No_OS[1]],[Yes_OS[0],Yes_OS[1]],[No_OB[0],No_OB[1]],[Yes_OB[0],Yes_OB[1]],[No_DP[0],No_DP[1]],[Yes_DP[0],Yes_DP[1]],[No_TS[0],No_TS[1]],[Yes_TS[0],Yes_TS[1]],[No_ST[0],No_ST[1]],[Yes_ST[0],Yes_ST[1]],[No_SM[0],No_SM[1]],[Yes_SM[0],Yes_SM[1]]])\n",
    "Internet=pd.DataFrame(data=num, index=['No_InternetServies','DSL_internet','Fiber optic_internet','No_OnlineSecurity', 'Yes_OnlineSecurity','No_OnlineBackup','Yes_OnlineBackup', 'No_DeviceProtection', 'Yes_DeviceProtection', 'No_TechSupport', 'Yes_TechSupport',\n",
    "       'No_StreamingTV','Yes_StreamingTV', 'No_StreamingMovies','Yes_StreamingMovies'], columns=['No_Churn','Yes_Churn'])\n",
    "print(Internet)\n",
    "Internet.plot.bar()"
   ]
  },
  {
   "cell_type": "markdown",
   "metadata": {},
   "source": [
    "Most customer didn't have techical support and online secruity. In addition, these two groups contained more customers who will churn or no_churn comparing with other groups. What is interesting is that customers had less chance to churn if they didn't join the internet service. "
   ]
  },
  {
   "cell_type": "markdown",
   "metadata": {},
   "source": [
    "#3.Churn VS Customer account information (how long they’ve been a customer, contract, payment method, paperless billing, monthly charges, and total charges)"
   ]
  },
  {
   "cell_type": "code",
   "execution_count": 18,
   "metadata": {},
   "outputs": [
    {
     "data": {
      "text/plain": [
       "<matplotlib.axes._subplots.AxesSubplot at 0x21e99a837b8>"
      ]
     },
     "execution_count": 18,
     "metadata": {},
     "output_type": "execute_result"
    },
    {
     "data": {
      "image/png": "[encoded data removed]",
      "text/plain": [
       "<Figure size 432x288 with 1 Axes>"
      ]
     },
     "metadata": {
      "needs_background": "light"
     },
     "output_type": "display_data"
    }
   ],
   "source": [
    "#Churn VS numerical varables\n",
    "#Churn VS tenure\n",
    "sns.boxplot(x='Churn',y='tenure',data=df)"
   ]
  },
  {
   "cell_type": "markdown",
   "metadata": {},
   "source": [
    "For those customers who would not churn, the average month of contract is around 38. However, the average month of contract for the churn group is around 10. This maks sense since no Churn group will always stay, and the tenure will increase."
   ]
  },
  {
   "cell_type": "code",
   "execution_count": 19,
   "metadata": {},
   "outputs": [
    {
     "data": {
      "text/plain": [
       "<matplotlib.axes._subplots.AxesSubplot at 0x21e99b40630>"
      ]
     },
     "execution_count": 19,
     "metadata": {},
     "output_type": "execute_result"
    },
    {
     "data": {
      "image/png": "[encoded data removed]",
      "text/plain": [
       "<Figure size 432x288 with 1 Axes>"
      ]
     },
     "metadata": {
      "needs_background": "light"
     },
     "output_type": "display_data"
    }
   ],
   "source": [
    "#Churn VS MonthlyCharges\n",
    "sns.boxplot(x='Churn',y='MonthlyCharges',data=df)"
   ]
  },
  {
   "cell_type": "markdown",
   "metadata": {},
   "source": [
    "The average Monthly Charges of churn group is higher than the no churn group. I guess that customers prefer to choose cheaper service. If they felt they were charged too much, they would consider to churn and choose other telecoms. So, the Telecom need to pay attention on those customers who spent higher or equal than 80 as their monthly Charge. This group will be easy to churn."
   ]
  },
  {
   "cell_type": "code",
   "execution_count": 20,
   "metadata": {},
   "outputs": [
    {
     "data": {
      "text/plain": [
       "<matplotlib.axes._subplots.AxesSubplot at 0x21e99bc1cf8>"
      ]
     },
     "execution_count": 20,
     "metadata": {},
     "output_type": "execute_result"
    },
    {
     "data": {
      "image/png": "[encoded data removed]",
      "text/plain": [
       "<Figure size 432x288 with 1 Axes>"
      ]
     },
     "metadata": {
      "needs_background": "light"
     },
     "output_type": "display_data"
    }
   ],
   "source": [
    "#Churn VS TotalCharges\n",
    "sns.boxplot(x='Churn',y='TotalCharges',data=df)"
   ]
  },
  {
   "cell_type": "markdown",
   "metadata": {},
   "source": [
    "The average of total Charges in the no churn group is much more higher than the churn group. This make sense since you stay longer, you need to spend more money. It is obviously that a lot of outliers in the churn group. This means even those customers spent a lot of money, they still choose to churn. For this type customers, maybe telecom need to find the reason why they leave."
   ]
  },
  {
   "cell_type": "code",
   "execution_count": 21,
   "metadata": {},
   "outputs": [
    {
     "data": {
      "text/plain": [
       "<matplotlib.legend.Legend at 0x21e99cb52e8>"
      ]
     },
     "execution_count": 21,
     "metadata": {},
     "output_type": "execute_result"
    },
    {
     "data": {
      "image/png": "[encoded data removed]",
      "text/plain": [
       "<Figure size 2160x576 with 3 Axes>"
      ]
     },
     "metadata": {
      "needs_background": "light"
     },
     "output_type": "display_data"
    }
   ],
   "source": [
    "#Churn VS categorical variable\n",
    "plt.figure(figsize=(30,8))\n",
    "# Contract vs Churn\n",
    "plt.subplot(131)\n",
    "a=sns.countplot(x='Contract',data=df,hue='Churn')\n",
    "a.set_xticklabels(('Month-to-month', 'One year', 'Two year'))\n",
    "plt.legend(title='Churn',labels=['No','Yes'])\n",
    "\n",
    "# PaperlessBilling vs Churn\n",
    "plt.subplot(132)\n",
    "b=sns.countplot(x='PaperlessBilling',data=df,hue='Churn')\n",
    "b.set_xticklabels(('Yes', 'No'))\n",
    "plt.legend(title='Churn',labels=['No','Yes'])\n",
    "\n",
    "# PaymentMethod vs Churn\n",
    "plt.subplot(133)\n",
    "c=sns.countplot(x='PaymentMethod',data=df,hue='Churn')\n",
    "c.set_xticklabels(('Electronic check', 'Mailed check', 'Bank transfer (automatic)','Credit card (automatic)'))\n",
    "plt.legend(title='Churn',labels=['No','Yes'])"
   ]
  },
  {
   "cell_type": "markdown",
   "metadata": {},
   "source": [
    "1. Contract: Most customers chose month-to-month. Even more than half customers in this group didn't churn, still many customers chose churn. This group is not stable. Two-year group looks better because only a little customers would choose churn. \n",
    "2. PaperlessBilling: more customers chose paperless billing. But in paperless billing and paper billing group, customers who chose paperless billing would easier to churn.\n",
    "3. PaymentMethod: it seems four different payment methods have same amount of customers who chose not churn. However, Most customers chose to churn if he/she used electronic check to pay."
   ]
  },
  {
   "cell_type": "code",
   "execution_count": 22,
   "metadata": {},
   "outputs": [
    {
     "data": {
      "text/plain": [
       "customerID           0\n",
       "gender               0\n",
       "SeniorCitizen        0\n",
       "Partner              0\n",
       "Dependents           0\n",
       "tenure               0\n",
       "PhoneService         0\n",
       "MultipleLines        0\n",
       "InternetService      0\n",
       "OnlineSecurity       0\n",
       "OnlineBackup         0\n",
       "DeviceProtection     0\n",
       "TechSupport          0\n",
       "StreamingTV          0\n",
       "StreamingMovies      0\n",
       "Contract             0\n",
       "PaperlessBilling     0\n",
       "PaymentMethod        0\n",
       "MonthlyCharges       0\n",
       "TotalCharges        11\n",
       "Churn                0\n",
       "dtype: int64"
      ]
     },
     "execution_count": 22,
     "metadata": {},
     "output_type": "execute_result"
    }
   ],
   "source": [
    "#Data preprocessing\n",
    "#Handle missing values\n",
    "df.isnull().sum()"
   ]
  },
  {
   "cell_type": "code",
   "execution_count": 23,
   "metadata": {},
   "outputs": [],
   "source": [
    "#Use median to impute the missing values\n",
    "df['TotalCharges']=df['TotalCharges'].fillna(df['TotalCharges'].median())"
   ]
  },
  {
   "cell_type": "code",
   "execution_count": 24,
   "metadata": {},
   "outputs": [
    {
     "name": "stdout",
     "output_type": "stream",
     "text": [
      "<class 'pandas.core.frame.DataFrame'>\n",
      "RangeIndex: 7043 entries, 0 to 7042\n",
      "Data columns (total 21 columns):\n",
      "customerID          7043 non-null object\n",
      "gender              7043 non-null object\n",
      "SeniorCitizen       7043 non-null int64\n",
      "Partner             7043 non-null uint8\n",
      "Dependents          7043 non-null uint8\n",
      "tenure              7043 non-null int64\n",
      "PhoneService        7043 non-null object\n",
      "MultipleLines       7043 non-null object\n",
      "InternetService     7043 non-null object\n",
      "OnlineSecurity      7043 non-null object\n",
      "OnlineBackup        7043 non-null object\n",
      "DeviceProtection    7043 non-null object\n",
      "TechSupport         7043 non-null object\n",
      "StreamingTV         7043 non-null object\n",
      "StreamingMovies     7043 non-null object\n",
      "Contract            7043 non-null object\n",
      "PaperlessBilling    7043 non-null object\n",
      "PaymentMethod       7043 non-null object\n",
      "MonthlyCharges      7043 non-null float64\n",
      "TotalCharges        7043 non-null float64\n",
      "Churn               7043 non-null object\n",
      "dtypes: float64(2), int64(2), object(15), uint8(2)\n",
      "memory usage: 1.0+ MB\n"
     ]
    }
   ],
   "source": [
    "df.info()"
   ]
  },
  {
   "cell_type": "code",
   "execution_count": 25,
   "metadata": {},
   "outputs": [
    {
     "data": {
      "text/plain": [
       "7043"
      ]
     },
     "execution_count": 25,
     "metadata": {},
     "output_type": "execute_result"
    }
   ],
   "source": [
    "df['customerID'].nunique()"
   ]
  },
  {
   "cell_type": "markdown",
   "metadata": {},
   "source": [
    "Since customerID is the unique number and have no meaningful for the prediction, I will not choose this variable to fit this model."
   ]
  },
  {
   "cell_type": "code",
   "execution_count": 26,
   "metadata": {},
   "outputs": [],
   "source": [
    "df.drop(columns='customerID',inplace=True)"
   ]
  },
  {
   "cell_type": "code",
   "execution_count": 27,
   "metadata": {},
   "outputs": [],
   "source": [
    "#Change to dummy variables\n",
    "df['gender']=pd.get_dummies(df['gender'],drop_first=True)\n",
    "df['PhoneService']=pd.get_dummies(df['PhoneService'],drop_first=True)\n",
    "df['PaperlessBilling']=pd.get_dummies(df['PaperlessBilling'],drop_first=True)\n",
    "df['Churn']=pd.get_dummies(df['Churn'],drop_first=True)"
   ]
  },
  {
   "cell_type": "code",
   "execution_count": 28,
   "metadata": {},
   "outputs": [],
   "source": [
    "#Use Label Encoder to handle category variable\n",
    "le=LabelEncoder()\n",
    "df['PaymentMethod']=le.fit(df['PaymentMethod']).transform(df['PaymentMethod'])\n",
    "for i in df.columns[6:15]:\n",
    "    df[i]=le.fit(df[i]).transform(df[i])"
   ]
  },
  {
   "cell_type": "code",
   "execution_count": 29,
   "metadata": {},
   "outputs": [],
   "source": [
    "#Split original data into train and test\n",
    "X_train, X_test, y_train, y_test = train_test_split(df.drop(columns='Churn'), df['Churn'], test_size=0.2, random_state=42)"
   ]
  },
  {
   "cell_type": "markdown",
   "metadata": {},
   "source": [
    "#Classification\n",
    "#SVM, RF, NaiveBayes and logisit Regression"
   ]
  },
  {
   "cell_type": "code",
   "execution_count": 37,
   "metadata": {},
   "outputs": [
    {
     "name": "stdout",
     "output_type": "stream",
     "text": [
      "0.815471965933286\n",
      "             precision    recall  f1-score   support\n",
      "\n",
      "          0       0.86      0.89      0.88      1036\n",
      "          1       0.67      0.60      0.63       373\n",
      "\n",
      "avg / total       0.81      0.82      0.81      1409\n",
      "\n"
     ]
    }
   ],
   "source": [
    "# Logistic regression\n",
    "lg = LogisticRegression().fit(X_train, y_train)\n",
    "lg_pred=lg.predict(X_test)\n",
    "lg_accuracy=accuracy_score(y_test,lg_pred)\n",
    "print(lg_accuracy)\n",
    "print(classification_report(y_test,lg_pred))"
   ]
  },
  {
   "cell_type": "code",
   "execution_count": 32,
   "metadata": {},
   "outputs": [
    {
     "name": "stdout",
     "output_type": "stream",
     "text": [
      "0.7217885024840313\n",
      "             precision    recall  f1-score   support\n",
      "\n",
      "          0       0.81      0.81      0.81      1036\n",
      "          1       0.48      0.49      0.48       373\n",
      "\n",
      "avg / total       0.72      0.72      0.72      1409\n",
      "\n"
     ]
    }
   ],
   "source": [
    "# DecisionTreeClassifier\n",
    "DT=DecisionTreeClassifier().fit(X_train, y_train)\n",
    "DT_pred=DT.predict(X_test)\n",
    "DT_accuracy=accuracy_score(y_test,DT_pred)\n",
    "print(DT_accuracy)\n",
    "print(classification_report(y_test,DT_pred))"
   ]
  },
  {
   "cell_type": "code",
   "execution_count": 33,
   "metadata": {},
   "outputs": [
    {
     "name": "stdout",
     "output_type": "stream",
     "text": [
      "0.7806955287437899\n",
      "             precision    recall  f1-score   support\n",
      "\n",
      "          0       0.82      0.90      0.86      1036\n",
      "          1       0.62      0.45      0.52       373\n",
      "\n",
      "avg / total       0.77      0.78      0.77      1409\n",
      "\n"
     ]
    }
   ],
   "source": [
    "#Random Forest\n",
    "RF=RandomForestClassifier(random_state=42).fit(X_train, y_train)\n",
    "RF_pred=RF.predict(X_test)\n",
    "RF_accuracy=accuracy_score(y_test,RF_pred)\n",
    "print(RF_accuracy)\n",
    "print(classification_report(y_test,RF_pred))"
   ]
  },
  {
   "cell_type": "code",
   "execution_count": 34,
   "metadata": {},
   "outputs": [
    {
     "name": "stdout",
     "output_type": "stream",
     "text": [
      "0.7565649396735273\n",
      "             precision    recall  f1-score   support\n",
      "\n",
      "          0       0.90      0.75      0.82      1036\n",
      "          1       0.53      0.77      0.63       373\n",
      "\n",
      "avg / total       0.80      0.76      0.77      1409\n",
      "\n"
     ]
    }
   ],
   "source": [
    "# Naive Bayes\n",
    "NB=GaussianNB().fit(X_train, y_train)\n",
    "NB_pred=NB.predict(X_test)\n",
    "NB_accuracy=accuracy_score(y_test,NB_pred)\n",
    "print(NB_accuracy)\n",
    "print(classification_report(y_test,NB_pred))"
   ]
  },
  {
   "cell_type": "code",
   "execution_count": 35,
   "metadata": {},
   "outputs": [
    {
     "name": "stdout",
     "output_type": "stream",
     "text": [
      "0.7934705464868701\n",
      "             precision    recall  f1-score   support\n",
      "\n",
      "          0       0.82      0.92      0.87      1036\n",
      "          1       0.66      0.45      0.54       373\n",
      "\n",
      "avg / total       0.78      0.79      0.78      1409\n",
      "\n"
     ]
    }
   ],
   "source": [
    "#linear SVM\n",
    "SVM=svm.SVC(kernel='linear').fit(X_train, y_train)\n",
    "SVM_pred=SVM.predict(X_test)\n",
    "SVM_accuracy=accuracy_score(y_test,SVM_pred)\n",
    "print(SVM_accuracy)\n",
    "print(classification_report(y_test,SVM_pred))"
   ]
  },
  {
   "cell_type": "markdown",
   "metadata": {},
   "source": [
    "Overall, Logistic regression can reach the highest accuracy."
   ]
  }
 ],
 "metadata": {
  "kernelspec": {
   "display_name": "Python 3",
   "language": "python",
   "name": "python3"
  },
  "language_info": {
   "codemirror_mode": {
    "name": "ipython",
    "version": 3
   },
   "file_extension": ".py",
   "mimetype": "text/x-python",
   "name": "python",
   "nbconvert_exporter": "python",
   "pygments_lexer": "ipython3",
   "version": "3.7.0"
  }
 },
 "nbformat": 4,
 "nbformat_minor": 2
}
